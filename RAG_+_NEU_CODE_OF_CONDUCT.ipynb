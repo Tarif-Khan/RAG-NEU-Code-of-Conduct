{
  "nbformat": 4,
  "nbformat_minor": 0,
  "metadata": {
    "colab": {
      "provenance": []
    },
    "kernelspec": {
      "name": "python3",
      "display_name": "Python 3"
    },
    "language_info": {
      "name": "python"
    }
  },
  "cells": [
    {
      "cell_type": "code",
      "source": [
        "from langchain.document_loaders import DirectoryLoader\n",
        "from langchain.vectorstores import Chroma\n",
        "from langchain.embeddings import OpenAIEmbeddings\n",
        "import os\n",
        "import shutil\n",
        "from google.colab import userdata\n",
        "from langchain.prompts import ChatPromptTemplate\n",
        "import argparse\n",
        "from langchain_openai import ChatOpenAI\n",
        "\n",
        "os.environ['OPENAI_API_KEY'] = userdata.get('OPENAI_API_KEY')\n",
        "openai_api_key = os.environ['OPENAI_API_KEY']"
      ],
      "metadata": {
        "id": "PLNU17Y6x7a6"
      },
      "execution_count": 32,
      "outputs": []
    },
    {
      "cell_type": "code",
      "source": [
        "# Set my path to the directory with all my files I will use for RAG\n",
        "DATA_PATH = \"/content/sample_data/rag_data\"\n",
        "\n",
        "# Create helper function to load all docs and return\n",
        "def load_documents():\n",
        "    loader = DirectoryLoader(DATA_PATH, glob = \"*.pdf\")\n",
        "    documents = loader.load()\n",
        "    return documents"
      ],
      "metadata": {
        "id": "gt_KZgyppO_S"
      },
      "execution_count": 23,
      "outputs": []
    },
    {
      "cell_type": "code",
      "source": [
        "from langchain.text_splitter import RecursiveCharacterTextSplitter\n",
        "\n",
        "# Create object to split all document text into chunks to then vectorize\n",
        "text_splitter = RecursiveCharacterTextSplitter(\n",
        "    chunk_size = 1000,\n",
        "    chunk_overlap = 500,\n",
        "    length_function = len,\n",
        "    add_start_index = True)\n",
        "\n",
        "# Get all documents and chunk\n",
        "documents = load_documents()\n",
        "chunks = text_splitter.split_documents(documents)\n",
        "print(f\"Number of chunks: {len(chunks)} and Number of Document\")"
      ],
      "metadata": {
        "colab": {
          "base_uri": "https://localhost:8080/"
        },
        "id": "ZEWh7GrQsVAu",
        "outputId": "5379528e-50b0-47c5-a2c3-3f682ec4a0c3"
      },
      "execution_count": 24,
      "outputs": [
        {
          "output_type": "stream",
          "name": "stdout",
          "text": [
            "Number of chunks: 126 and Number of Document\n"
          ]
        }
      ]
    },
    {
      "cell_type": "code",
      "source": [
        "# Next pieces of code will vectorize and store data in Chroma\n",
        "CHROMA_PATH = \"/content/chroma_db\"\n",
        "\n",
        "if os.path.exists(CHROMA_PATH):\n",
        "        shutil.rmtree(CHROMA_PATH)\n",
        "\n",
        "db = Chroma.from_documents(\n",
        "    documents = chunks,\n",
        "    embedding = OpenAIEmbeddings(),\n",
        "    persist_directory=CHROMA_PATH\n",
        ")\n",
        "\n",
        "db.persist()\n",
        "print(f\"Saved {len(chunks)} chunks to {CHROMA_PATH}\")"
      ],
      "metadata": {
        "colab": {
          "base_uri": "https://localhost:8080/"
        },
        "id": "RW2F-oPvs4xB",
        "outputId": "79d3e8d8-eeee-4e5e-e2fc-b67dff24f3fa"
      },
      "execution_count": 27,
      "outputs": [
        {
          "output_type": "stream",
          "name": "stdout",
          "text": [
            "Saved 126 chunks to /content/chroma_db\n"
          ]
        }
      ]
    },
    {
      "cell_type": "code",
      "source": [
        "# This is the template for the prompts we will be sending into our model when\n",
        "# we query it\n",
        "\n",
        "PROMPT_TEMPLATE = \"\"\"\n",
        "Answer the question based only on the following context:\n",
        "\n",
        "{context}\n",
        "\n",
        "---\n",
        "\n",
        "Answer the question based on the above context: {question}\n",
        "\"\"\"\n"
      ],
      "metadata": {
        "id": "odMoNzj32oP2"
      },
      "execution_count": 28,
      "outputs": []
    },
    {
      "cell_type": "code",
      "source": [
        "def get_response(query_text):\n",
        "    # Prepare the DB.\n",
        "    embedding_function = OpenAIEmbeddings()\n",
        "    db = Chroma(persist_directory=CHROMA_PATH, embedding_function=embedding_function)\n",
        "\n",
        "    # Search the DB.\n",
        "    results = db.similarity_search_with_relevance_scores(query_text, k=3)\n",
        "    if len(results) == 0 or results[0][1] < 0.7:\n",
        "        print(f\"Unable to find matching results.\")\n",
        "        return\n",
        "\n",
        "    context_text = \"\\n\\n---\\n\\n\".join([doc.page_content for doc, _score in results])\n",
        "    prompt_template = ChatPromptTemplate.from_template(PROMPT_TEMPLATE)\n",
        "    prompt = prompt_template.format(context=context_text, question=query_text)\n",
        "    print(prompt)\n",
        "\n",
        "    model = ChatOpenAI()\n",
        "    response_text = model.predict(prompt)\n",
        "\n",
        "    sources = [doc.metadata.get(\"source\", None) for doc, _score in results]\n",
        "    formatted_response = f\"Response: {response_text}\\nSources: {sources}\"\n",
        "    print(formatted_response)"
      ],
      "metadata": {
        "id": "2bYXz2Uh2qis"
      },
      "execution_count": 35,
      "outputs": []
    },
    {
      "cell_type": "code",
      "source": [
        "get_response(\"What is constituted as cheating on assignemnts?\")"
      ],
      "metadata": {
        "colab": {
          "base_uri": "https://localhost:8080/"
        },
        "id": "ErozkQzD7h71",
        "outputId": "59e667f0-815c-4a5d-a76b-02fd7240883a"
      },
      "execution_count": 36,
      "outputs": [
        {
          "output_type": "stream",
          "name": "stdout",
          "text": [
            "Human: \n",
            "Answer the question based only on the following context:\n",
            "\n",
            "Violations are listed in alphabetical order; the order of violations is not indicative of the seriousness of each violation. Repeated violations, multiple violations, or the severity of the misconduct may heighten the university’s response, which could include suspension or expulsion from the university and/or cancellation of the Residence Hall and Dining License Agreement.\n",
            "\n",
            "Where permitted by applicable law and university policy, the university reserves the right to notify parents when a student has been referred to OSCCR.\n",
            "\n",
            "ACADEMIC INTEGRITY\n",
            "\n",
            "As deﬁned in the Academic Integrity Policy (https://catalog.northeastern.edu/handbook/policies-regulations/academic-integrity/).\n",
            "\n",
            "AIDING AND ABETTING\n",
            "\n",
            "Knowingly assisting with or cooperating in an act or action that violates the Code. A student may be held responsible as though the student were a direct participant in the violation, even if information indicates the student was not directly involved in the perpetration of the violation.\n",
            "\n",
            "---\n",
            "\n",
            "ACADEMIC INTEGRITY\n",
            "\n",
            "As deﬁned in the Academic Integrity Policy (https://catalog.northeastern.edu/handbook/policies-regulations/academic-integrity/).\n",
            "\n",
            "AIDING AND ABETTING\n",
            "\n",
            "Knowingly assisting with or cooperating in an act or action that violates the Code. A student may be held responsible as though the student were a direct participant in the violation, even if information indicates the student was not directly involved in the perpetration of the violation.\n",
            "\n",
            "ALCOHOL, MARIJUANA, OTHER DRUGS, AND MEDICAL AMNESTY\n",
            "\n",
            "The university expects that all of its students, whether on or off campus, abide by the law and university regulations concerning alcohol and drug use.\n",
            "\n",
            "Alcohol\n",
            "\n",
            "---\n",
            "\n",
            "of injury; causes mental or physical fatigue or distress, discomfort, embarrassment, harassment, ridicule, or intimidation; causes damage to or destruction of property; or which is a violation of law, university policy, or the Code. Such activities include but are not limited to striking another student by hand or with any instrument; requiring or advocating alcohol or other drug use; late sessions/meetings that interfere with academic activities; tattooing, branding, or piercing; physical or psychological shocks; wearing of apparel in public that is embarrassing, humiliating, or degrading; or games/activities causing or resulting in fatigue, sleep deprivation, mental distress, panic, embarrassment, or humiliation. Agreeing to maintain a speciﬁc GPA, comply with a dress code for a team/organizational function, participate in volunteer community service, participate in a team/ organizational trip, take an oath, or sign a contract of standards is not considered hazing.\n",
            "\n",
            "---\n",
            "\n",
            "Answer the question based on the above context: What is constituted as cheating on assignemnts?\n",
            "\n",
            "Response: According to the context provided, cheating on assignments would fall under the violation of Academic Integrity as defined in the Academic Integrity Policy. This includes activities such as aiding and abetting, knowingly assisting with or cooperating in an act that violates the Code, and being held responsible as though the student were a direct participant in the violation.\n",
            "Sources: ['/content/sample_data/rag_data/Code of Conduct NEU.pdf', '/content/sample_data/rag_data/Code of Conduct NEU.pdf', '/content/sample_data/rag_data/Code of Conduct NEU.pdf']\n"
          ]
        }
      ]
    }
  ]
}